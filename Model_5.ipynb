{
 "cells": [
  {
   "cell_type": "code",
   "execution_count": 1,
   "metadata": {},
   "outputs": [],
   "source": [
    "import numpy as np\n",
    "import pandas as pd\n",
    "import matplotlib.pyplot as plt\n",
    "\n",
    "from sklearn.feature_extraction.text import TfidfVectorizer, CountVectorizer\n",
    "from sklearn.linear_model import LogisticRegression\n",
    "from sklearn.naive_bayes import MultinomialNB\n",
    "from sklearn.metrics import classification_report, confusion_matrix, roc_curve, accuracy_score, auc, log_loss, roc_auc_score, f1_score\n",
    "from sklearn.model_selection import train_test_split\n",
    "\n",
    "import re\n",
    "import string\n",
    "import pickle\n",
    "import joblib\n",
    "from sklearn import metrics\n",
    "import os\n",
    "import gensim\n"
   ]
  },
  {
   "cell_type": "markdown",
   "metadata": {},
   "source": [
    "#### Read The Data"
   ]
  },
  {
   "cell_type": "code",
   "execution_count": 2,
   "metadata": {},
   "outputs": [],
   "source": [
    "class_names = ['toxic','severe_toxic','obscene','threat','insult','identity_hate']\n",
    "\n",
    "train = pd.read_csv('C:/Users/Shendy/Desktop/Project_Draft/ToxiCommentClassification/train.csv')\n",
    "test = pd.read_csv('C:/Users/Shendy/Desktop/Project_Draft/ToxiCommentClassification/test.csv')"
   ]
  },
  {
   "cell_type": "markdown",
   "metadata": {},
   "source": [
    "#### Cleaning Data"
   ]
  },
  {
   "cell_type": "code",
   "execution_count": 3,
   "metadata": {},
   "outputs": [],
   "source": [
    "#remove non-ascii characters\n",
    "def remove_non_ascii(text):\n",
    "    # checking whether the char is printable value \n",
    "    text  = \"\".join([char for char in text if char in string.printable])\n",
    "    # remove a match for any digit between 0 and 9\n",
    "    text = re.sub('[0-9]+', '', text)\n",
    "    return text\n",
    "train['comment_text'] = train['comment_text'].apply(lambda x: remove_non_ascii(x))\n",
    "test['comment_text'] = test['comment_text'].apply(lambda x: remove_non_ascii(x))"
   ]
  },
  {
   "cell_type": "code",
   "execution_count": 4,
   "metadata": {},
   "outputs": [
    {
     "data": {
      "text/plain": [
       "'testing'"
      ]
     },
     "execution_count": 4,
     "metadata": {},
     "output_type": "execute_result"
    }
   ],
   "source": [
    "remove_non_ascii('éñtesting123214ßŁ')"
   ]
  },
  {
   "cell_type": "code",
   "execution_count": 5,
   "metadata": {},
   "outputs": [],
   "source": [
    "list_sentences_train = train['comment_text']\n",
    "list_sentences_test = test['comment_text']\n",
    "all_text = pd.concat([list_sentences_train, list_sentences_test])"
   ]
  },
  {
   "cell_type": "code",
   "execution_count": 6,
   "metadata": {},
   "outputs": [
    {
     "data": {
      "text/plain": [
       "0         Explanation\\nWhy the edits made under my usern...\n",
       "1         D'aww! He matches this background colour I'm s...\n",
       "2         Hey man, I'm really not trying to edit war. It...\n",
       "3         \"\\nMore\\nI can't make any real suggestions on ...\n",
       "4         You, sir, are my hero. Any chance you remember...\n",
       "                                ...                        \n",
       "159566    \":::::And for the second time of asking, when ...\n",
       "159567    You should be ashamed of yourself \\n\\nThat is ...\n",
       "159568    Spitzer \\n\\nUmm, theres no actual article for ...\n",
       "159569    And it looks like it was actually you who put ...\n",
       "159570    \"\\nAnd ... I really don't think you understand...\n",
       "Name: comment_text, Length: 159571, dtype: object"
      ]
     },
     "execution_count": 6,
     "metadata": {},
     "output_type": "execute_result"
    }
   ],
   "source": [
    "list_sentences_train"
   ]
  },
  {
   "cell_type": "code",
   "execution_count": 7,
   "metadata": {},
   "outputs": [],
   "source": [
    "#separate comments into ones where each class name = 1\n",
    "\n",
    "toxic = list_sentences_train.loc[train['toxic'] == 1]\n",
    "severe_toxic = list_sentences_train.loc[train['severe_toxic'] == 1]\n",
    "obscene = list_sentences_train.loc[train['obscene'] == 1]\n",
    "threat = list_sentences_train.loc[train['threat'] == 1]\n",
    "insult = list_sentences_train.loc[train['insult'] == 1]\n",
    "identity_hate = list_sentences_train.loc[train['identity_hate'] == 1]"
   ]
  },
  {
   "cell_type": "code",
   "execution_count": 8,
   "metadata": {},
   "outputs": [
    {
     "data": {
      "text/plain": [
       "6          COCKSUCKER BEFORE YOU PISS AROUND ON MY WORK\n",
       "12    Hey... what is it..\\n@ | talk .\\nWhat is it......\n",
       "16    Bye! \\n\\nDon't look, come or think of comming ...\n",
       "42    You are gay or antisemmitian? \\n\\nArchangel WH...\n",
       "43             FUCK YOUR FILTHY MOTHER IN THE ASS, DRY!\n",
       "Name: comment_text, dtype: object"
      ]
     },
     "execution_count": 8,
     "metadata": {},
     "output_type": "execute_result"
    }
   ],
   "source": [
    "toxic.head()"
   ]
  },
  {
   "cell_type": "code",
   "execution_count": 9,
   "metadata": {},
   "outputs": [],
   "source": [
    "# Remove/change stopwords\n",
    "cl_path = 'C:/Users/Shendy/Desktop/Project_Draft/Chat_Classifier/static/cleaning/clean_letters.txt'\n",
    "clean_word_dict = {} #clean_letters.txt\n",
    "with open(cl_path, 'r', encoding='utf-8') as cl:\n",
    "    for line in cl:\n",
    "        line = line.strip('\\n')\n",
    "        typo, correct = line.split(',')\n",
    "        clean_word_dict[typo] = correct\n",
    "\n",
    "def clean_word(text):\n",
    "    replace_numbers = re.compile(r'\\d+', re.IGNORECASE)\n",
    "    special_character_removal = re.compile(r'[^a-z\\d ]', re.IGNORECASE)\n",
    "\n",
    "    text = text.lower()\n",
    "    text = re.sub(r\"https?:\\/\\/(www\\.)?[-a-zA-Z0-9@:%._\\+~#=]{2,256}\\.[a-z]{2,6}\\b([-a-zA-Z0-9@:%_\\+.~#?&//=]*)\", \"\", text)\n",
    "    text = re.sub(r\"(25[0-5]|2[0-4][0-9]|[01]?[0-9][0-9]?)(\\.(25[0-5]|2[0-4][0-9]|[01]?[0-9][0-9]?)){3}\", \"\", text)\n",
    "\n",
    "    for typo, correct in clean_word_dict.items(): # corecting typo\n",
    "        text = re.sub(typo, \" \" + correct + \" \", text) \n",
    "\n",
    "    text = re.sub(r\"what's\", \"what is \", text)\n",
    "    text = re.sub(r\"\\'s\", \" \", text)\n",
    "    text = re.sub(r\"\\'ve\", \" have \", text)\n",
    "    text = re.sub(r\"can't\", \"cannot \", text)\n",
    "    text = re.sub(r\"n't\", \" not \", text)\n",
    "    text = re.sub(r\"i'm\", \"i am \", text)\n",
    "    text = re.sub(r\"i’m\", \"i am\", text)\n",
    "    text = re.sub(r\"\\'re\", \" are \", text)\n",
    "    text = re.sub(r\"\\'d\", \" would \", text)\n",
    "    text = re.sub(r\"\\'ll\", \" will \", text)\n",
    "    text = re.sub(r\",\", \" \", text)\n",
    "    text = re.sub(r\"\\.\", \" \", text)\n",
    "    text = re.sub(r\"!\", \" ! \", text)\n",
    "    text = re.sub(r\"\\/\", \" \", text)\n",
    "    text = re.sub(r\"\\^\", \" ^ \", text)\n",
    "    text = re.sub(r\"\\+\", \" + \", text)\n",
    "    text = re.sub(r\"\\-\", \" - \", text)\n",
    "    text = re.sub(r\"\\=\", \" = \", text)\n",
    "    text = re.sub(r\"'\", \" \", text)\n",
    "    text = re.sub(r\"(\\d+)(k)\", r\"\\g<1>000\", text)\n",
    "    text = re.sub(r\":\", \" : \", text)\n",
    "    text = re.sub(r\" e g \", \" eg \", text)\n",
    "    text = re.sub(r\" b g \", \" bg \", text)\n",
    "    text = re.sub(r\" u s \", \" american \", text)\n",
    "    text = re.sub(r\"\\0s\", \"0\", text)\n",
    "    text = re.sub(r\" 9 11 \", \"911\", text)\n",
    "    text = re.sub(r\"e - mail\", \"email\", text)\n",
    "    text = re.sub(r\"j k\", \"jk\", text)\n",
    "    text = re.sub(r\"\\s{2,}\", \" \", text)\n",
    "    text = replace_numbers.sub('', text)\n",
    "    return text"
   ]
  },
  {
   "cell_type": "code",
   "execution_count": 10,
   "metadata": {},
   "outputs": [
    {
     "data": {
      "text/plain": [
       "\"You are gay or antisemmitian? \\n\\nArchangel WHite Tiger\\n\\nMeow! Greetingshhh!\\n\\nUh, there are two ways, why you do erased my comment about WW, that holocaust was brutally slaying of Jews and not gays/Gypsys/Slavs/anyone...\\n\\n - If you are anti-semitian, than shave your head bald and go to the skinhead meetings!\\n\\n - If you doubt words of the Bible, that homosexuality is a deadly sin, make a pentagram tatoo on your forehead go to the satanistic masses with your gay pals!\\n\\n - First and last warning, you fucking gay - I won't appreciate if any more nazi shwain would write in my page! I don't wish to talk to you anymore!\\n\\nBeware of the Dark Side!\""
      ]
     },
     "execution_count": 10,
     "metadata": {},
     "output_type": "execute_result"
    }
   ],
   "source": [
    "toxic[42]"
   ]
  },
  {
   "cell_type": "code",
   "execution_count": 11,
   "metadata": {},
   "outputs": [
    {
     "data": {
      "text/plain": [
       "'you are gay or antisemmitian? archangel white tiger meow ! greetingshhh ! uh there are two ways why you do erased my comment about ww that holocaust was brutally slaying of jews and not gays gypsys slavs anyone - if you are anti - semitian than shave your head bald and go to the skinhead meetings ! - if you doubt words of the bible that homosexuality is a deadly sin make a pentagram tatoo on your forehead go to the satanistic masses with your gay pals ! - first and last warning you fucking gay - i wo not appreciate if any more nazi shwain would write in my page ! i do not wish to talk to you anymore ! beware of the dark side ! '"
      ]
     },
     "execution_count": 11,
     "metadata": {},
     "output_type": "execute_result"
    }
   ],
   "source": [
    "clean_word(toxic[42])"
   ]
  },
  {
   "cell_type": "code",
   "execution_count": 12,
   "metadata": {},
   "outputs": [],
   "source": [
    "train_text = []\n",
    "test_text = []\n",
    "toxic_text = []\n",
    "severe_toxic_text = []\n",
    "obscene_text = []\n",
    "threat_text = []\n",
    "insult_text = []\n",
    "identity_hate_text = []\n",
    "\n",
    "for text in list_sentences_train:\n",
    "    train_text.append(clean_word(text))\n",
    "    \n",
    "for text in list_sentences_test:\n",
    "    test_text.append(clean_word(text))\n",
    "    \n",
    "for text in toxic:\n",
    "    toxic_text.append(clean_word(text))\n",
    "\n",
    "for text in severe_toxic_text:\n",
    "    severe_toxic_text.append(clean_word(text))\n",
    "\n",
    "for text in obscene_text:\n",
    "    obscene_text.append(clean_word(text))\n",
    "\n",
    "for text in threat:\n",
    "    threat_text.append(clean_word(text))\n",
    "\n",
    "for text in insult:\n",
    "    insult_text.append(clean_word(text))\n",
    "\n",
    "for text in identity_hate:\n",
    "    identity_hate_text.append(clean_word(text))"
   ]
  },
  {
   "cell_type": "code",
   "execution_count": 13,
   "metadata": {},
   "outputs": [
    {
     "data": {
      "text/plain": [
       "['explanation\\nwhy the edits made under my username hardcore metallica fan were reverted? they were not vandalisms just closure on some gas after i voted at new york dolls fac and please do not remove the template from the talk page since i am retired now ',\n",
       " 'd aww ! he matches this background colour i am seemingly stuck with thanks (talk) : january (utc)',\n",
       " 'hey man i am really not trying to edit war it just that this guy is constantly removing relevant information and talking to me through edits instead of my talk page he seems to care more about the formatting than the actual info ',\n",
       " '\"\\nmore\\ni cannot make any real suggestions on improvement - i wondered if the section statistics should be later on or a subsection of \"\"types of accidents\"\" - i think the references may need tidying so that they are all in the exact same format ie date format etc i can do that later on if no - one else does first - if you have any preferences for formatting style on references or want to do it yourself please let me know there appears to be a backlog on articles for review so i guess there may be a delay until a reviewer turns up it listed in the relevant form eg wikipedia : good_article_nominations#transport \"',\n",
       " 'you sir are my hero any chance you remember what page that on?']"
      ]
     },
     "execution_count": 13,
     "metadata": {},
     "output_type": "execute_result"
    }
   ],
   "source": [
    "train_text[:5]"
   ]
  },
  {
   "cell_type": "markdown",
   "metadata": {},
   "source": [
    "### Apply TF-IDF Vectorizer"
   ]
  },
  {
   "cell_type": "code",
   "execution_count": 14,
   "metadata": {},
   "outputs": [
    {
     "data": {
      "text/plain": [
       "TfidfVectorizer(analyzer='word', binary=False, decode_error='strict',\n",
       "                dtype=<class 'numpy.float64'>, encoding='utf-8',\n",
       "                input='content', lowercase=True, max_df=1.0, max_features=20000,\n",
       "                min_df=1, ngram_range=(1, 1), norm='l2', preprocessor=None,\n",
       "                smooth_idf=True, stop_words='english', strip_accents='unicode',\n",
       "                sublinear_tf=True, token_pattern='\\\\w{1,}', tokenizer=None,\n",
       "                use_idf=True, vocabulary=None)"
      ]
     },
     "execution_count": 14,
     "metadata": {},
     "output_type": "execute_result"
    }
   ],
   "source": [
    "word_vectorizer = TfidfVectorizer(\n",
    "    sublinear_tf = True,\n",
    "    strip_accents = 'unicode',\n",
    "    analyzer = 'word',\n",
    "    token_pattern = r'\\w{1,}',\n",
    "    ngram_range = (1, 1),\n",
    "    stop_words = 'english',\n",
    "    max_features = 20000)\n",
    "word_vectorizer.fit(all_text)"
   ]
  },
  {
   "cell_type": "code",
   "execution_count": 41,
   "metadata": {},
   "outputs": [],
   "source": [
    "#word_vectorizer.vocabulary_"
   ]
  },
  {
   "cell_type": "code",
   "execution_count": 47,
   "metadata": {},
   "outputs": [
    {
     "name": "stdout",
     "output_type": "stream",
     "text": [
      "admixture\n"
     ]
    }
   ],
   "source": [
    "for key, value in word_vectorizer.vocabulary_.items():\n",
    "    if value == 301:\n",
    "        print(key)"
   ]
  },
  {
   "cell_type": "code",
   "execution_count": 39,
   "metadata": {},
   "outputs": [],
   "source": [
    "# word_vectorizer.get_feature_names()"
   ]
  },
  {
   "cell_type": "code",
   "execution_count": 16,
   "metadata": {},
   "outputs": [],
   "source": [
    "train_word_features = word_vectorizer.transform(train_text)\n",
    "test_word_features = word_vectorizer.transform(test_text)"
   ]
  },
  {
   "cell_type": "code",
   "execution_count": 17,
   "metadata": {},
   "outputs": [
    {
     "data": {
      "text/plain": [
       "<159571x20000 sparse matrix of type '<class 'numpy.float64'>'\n",
       "\twith 3567616 stored elements in Compressed Sparse Row format>"
      ]
     },
     "execution_count": 17,
     "metadata": {},
     "output_type": "execute_result"
    }
   ],
   "source": [
    "train_word_features"
   ]
  },
  {
   "cell_type": "markdown",
   "metadata": {},
   "source": [
    "### Apply CountVectorizers"
   ]
  },
  {
   "cell_type": "code",
   "execution_count": 18,
   "metadata": {},
   "outputs": [],
   "source": [
    "## Convert a collection of text documents to a matrix of token counts (sparse matrix)\n",
    "def create_df_of_toxic_category(category_string):\n",
    "    '''category string must match train dataframe column name exactly ''' \n",
    "    filtered_sentences = list_sentences_train.loc[train[category_string] == 1]\n",
    "    category_vectorizer = CountVectorizer(\n",
    "        strip_accents = 'unicode',\n",
    "        analyzer = 'word',\n",
    "        ngram_range = (1, 1),\n",
    "        stop_words = 'english',\n",
    "        max_features = 20000)\n",
    "    category_vec_fit = category_vectorizer.fit(filtered_sentences)\n",
    "\n",
    "    category_count_features = category_vectorizer.transform(filtered_sentences)\n",
    "    category_count_df = pd.DataFrame(category_vec_fit.get_feature_names())\n",
    "    category_count_df['counts'] = category_count_features.toarray().sum(axis=0)\n",
    "    category_count_df.rename(columns = {0: 'word'})\n",
    "    return category_count_df, filtered_sentences"
   ]
  },
  {
   "cell_type": "code",
   "execution_count": 19,
   "metadata": {},
   "outputs": [],
   "source": [
    "class_specific_vocab_dict = dict()\n",
    "class_specific_sentences = dict()\n",
    "for class_name in class_names:\n",
    "    class_specific_vocab_dict[class_name] =\\\n",
    "        create_df_of_toxic_category(class_name)[0].sort_values('counts', ascending = False)\n",
    "    class_specific_sentences[class_name] =\\\n",
    "        create_df_of_toxic_category(class_name)[1]"
   ]
  },
  {
   "cell_type": "code",
   "execution_count": 20,
   "metadata": {},
   "outputs": [
    {
     "data": {
      "text/html": [
       "<div>\n",
       "<style scoped>\n",
       "    .dataframe tbody tr th:only-of-type {\n",
       "        vertical-align: middle;\n",
       "    }\n",
       "\n",
       "    .dataframe tbody tr th {\n",
       "        vertical-align: top;\n",
       "    }\n",
       "\n",
       "    .dataframe thead th {\n",
       "        text-align: right;\n",
       "    }\n",
       "</style>\n",
       "<table border=\"1\" class=\"dataframe\">\n",
       "  <thead>\n",
       "    <tr style=\"text-align: right;\">\n",
       "      <th></th>\n",
       "      <th>0</th>\n",
       "      <th>counts</th>\n",
       "    </tr>\n",
       "  </thead>\n",
       "  <tbody>\n",
       "    <tr>\n",
       "      <td>5516</td>\n",
       "      <td>fuck</td>\n",
       "      <td>9937</td>\n",
       "    </tr>\n",
       "    <tr>\n",
       "      <td>19099</td>\n",
       "      <td>wikipedia</td>\n",
       "      <td>3677</td>\n",
       "    </tr>\n",
       "    <tr>\n",
       "      <td>13998</td>\n",
       "      <td>shit</td>\n",
       "      <td>3624</td>\n",
       "    </tr>\n",
       "    <tr>\n",
       "      <td>8059</td>\n",
       "      <td>like</td>\n",
       "      <td>3512</td>\n",
       "    </tr>\n",
       "    <tr>\n",
       "      <td>9314</td>\n",
       "      <td>nigger</td>\n",
       "      <td>3300</td>\n",
       "    </tr>\n",
       "    <tr>\n",
       "      <td>...</td>\n",
       "      <td>...</td>\n",
       "      <td>...</td>\n",
       "    </tr>\n",
       "    <tr>\n",
       "      <td>14647</td>\n",
       "      <td>smileys</td>\n",
       "      <td>1</td>\n",
       "    </tr>\n",
       "    <tr>\n",
       "      <td>14642</td>\n",
       "      <td>smerf</td>\n",
       "      <td>1</td>\n",
       "    </tr>\n",
       "    <tr>\n",
       "      <td>14638</td>\n",
       "      <td>smelllllllly</td>\n",
       "      <td>1</td>\n",
       "    </tr>\n",
       "    <tr>\n",
       "      <td>14634</td>\n",
       "      <td>smegma</td>\n",
       "      <td>1</td>\n",
       "    </tr>\n",
       "    <tr>\n",
       "      <td>19999</td>\n",
       "      <td>zzzzzzz</td>\n",
       "      <td>1</td>\n",
       "    </tr>\n",
       "  </tbody>\n",
       "</table>\n",
       "<p>20000 rows × 2 columns</p>\n",
       "</div>"
      ],
      "text/plain": [
       "                  0  counts\n",
       "5516           fuck    9937\n",
       "19099     wikipedia    3677\n",
       "13998          shit    3624\n",
       "8059           like    3512\n",
       "9314         nigger    3300\n",
       "...             ...     ...\n",
       "14647       smileys       1\n",
       "14642         smerf       1\n",
       "14638  smelllllllly       1\n",
       "14634        smegma       1\n",
       "19999       zzzzzzz       1\n",
       "\n",
       "[20000 rows x 2 columns]"
      ]
     },
     "execution_count": 20,
     "metadata": {},
     "output_type": "execute_result"
    }
   ],
   "source": [
    "class_specific_vocab_dict['toxic']"
   ]
  },
  {
   "cell_type": "markdown",
   "metadata": {},
   "source": [
    "### Train test split"
   ]
  },
  {
   "cell_type": "code",
   "execution_count": 21,
   "metadata": {},
   "outputs": [],
   "source": [
    "#train test split for each Class\n",
    "X_train_toxic, X_test_toxic, y_train_toxic, y_test_toxic = train_test_split(\n",
    "    train_word_features,train['toxic'], test_size=0.2, random_state=42)\n",
    "\n",
    "X_train_severe_toxic, X_test_severe_toxic, y_train_severe_toxic, y_test_severe_toxic = train_test_split(\n",
    "    train_word_features,train['severe_toxic'], test_size=0.2, random_state=42)\n",
    "\n",
    "X_train_obscene, X_test_obscene, y_train_obscene, y_test_obscene = train_test_split(\n",
    "    train_word_features,train['obscene'], test_size=0.2, random_state=42)\n",
    "\n",
    "X_train_threat, X_test_threat, y_train_threat, y_test_threat = train_test_split(\n",
    "    train_word_features,train['threat'], test_size=0.2, random_state=42)\n",
    "\n",
    "X_train_insult, X_test_insult, y_train_insult, y_test_insult = train_test_split(\n",
    "    train_word_features,train['insult'], test_size=0.2, random_state=42)\n",
    "\n",
    "X_train_identity_hate, X_test_identity_hate, y_train_identity_hate, y_test_identity_hate = train_test_split(\n",
    "    train_word_features,train['identity_hate'], test_size=0.2, random_state=42)"
   ]
  },
  {
   "cell_type": "code",
   "execution_count": 22,
   "metadata": {},
   "outputs": [
    {
     "name": "stdout",
     "output_type": "stream",
     "text": [
      "(127656, 20000)\n",
      "(31915, 20000)\n",
      "(127656,)\n",
      "(31915,)\n"
     ]
    }
   ],
   "source": [
    "print(X_train_toxic.shape)\n",
    "print(X_test_toxic.shape)\n",
    "print(y_train_toxic.shape)\n",
    "print(y_test_toxic.shape)"
   ]
  },
  {
   "cell_type": "markdown",
   "metadata": {},
   "source": [
    "## Modeling"
   ]
  },
  {
   "cell_type": "markdown",
   "metadata": {},
   "source": [
    "### 1.Naive Bayes Classifier for Multinomial"
   ]
  },
  {
   "cell_type": "code",
   "execution_count": 23,
   "metadata": {},
   "outputs": [
    {
     "name": "stdout",
     "output_type": "stream",
     "text": [
      "[1 0 0 ... 0 0 0]\n",
      "[0 0 0 ... 0 0 0]\n",
      "[1 0 0 ... 0 0 0]\n",
      "[1 0 0 ... 0 0 0]\n",
      "[1 0 0 ... 0 0 0]\n",
      "[1 0 0 ... 0 0 0]\n"
     ]
    }
   ],
   "source": [
    "# Toxic\n",
    "NB_tox = MultinomialNB()\n",
    "NB_tox.fit(X_train_toxic, y_train_toxic)\n",
    "predictTrain_tox = NB_tox.predict(X_train_toxic)\n",
    "print(predictTrain_tox)\n",
    "\n",
    "# Severe Toxic\n",
    "NB_stox = MultinomialNB()\n",
    "NB_stox.fit(X_train_severe_toxic, y_train_severe_toxic)\n",
    "predictTrain_stox = NB_stox.predict(X_train_severe_toxic)\n",
    "print(predictTrain_stox)\n",
    "\n",
    "# Obscene\n",
    "NB_obs = MultinomialNB()\n",
    "NB_obs.fit(X_train_obscene, y_train_obscene)\n",
    "predictTrain_obs = NB_obs.predict(X_train_obscene)\n",
    "print(predictTrain_obs)\n",
    "\n",
    "# Threat\n",
    "NB_threat = MultinomialNB()\n",
    "NB_threat.fit(X_train_threat, y_train_threat)\n",
    "predictTrain_threat = NB_obs.predict(X_train_threat)\n",
    "print(predictTrain_threat)\n",
    "\n",
    "# Insult\n",
    "NB_insult = MultinomialNB()\n",
    "NB_insult.fit(X_train_insult, y_train_insult)\n",
    "predictTrain_insult = NB_obs.predict(X_train_insult)\n",
    "print(predictTrain_insult)\n",
    "\n",
    "# Indentity Hate\n",
    "NB_identity = MultinomialNB()\n",
    "NB_identity.fit(X_train_identity_hate, y_train_identity_hate)\n",
    "predictTrain_identity = NB_obs.predict(X_train_identity_hate)\n",
    "print(predictTrain_identity)"
   ]
  },
  {
   "cell_type": "markdown",
   "metadata": {},
   "source": [
    "## Model Evaluation (Training Data)"
   ]
  },
  {
   "cell_type": "code",
   "execution_count": 24,
   "metadata": {},
   "outputs": [
    {
     "name": "stdout",
     "output_type": "stream",
     "text": [
      "---------- Confusion Matrix & Classification Report ----------\n",
      "              Pred Clean  Pred Toxic\n",
      "Actual Clean      115024         394\n",
      "Actual Toxic        5907        6331\n",
      "              precision    recall  f1-score   support\n",
      "\n",
      "           0       0.95      1.00      0.97    115418\n",
      "           1       0.94      0.52      0.67     12238\n",
      "\n",
      "    accuracy                           0.95    127656\n",
      "   macro avg       0.95      0.76      0.82    127656\n",
      "weighted avg       0.95      0.95      0.94    127656\n",
      "\n",
      "------------------------------------------------------------\n",
      "                     Pred Clean  Pred Severe Toxic\n",
      "Actual Clean             126367                 15\n",
      "Actual Severe Toxic        1227                 47\n",
      "              precision    recall  f1-score   support\n",
      "\n",
      "           0       0.99      1.00      1.00    126382\n",
      "           1       0.76      0.04      0.07      1274\n",
      "\n",
      "    accuracy                           0.99    127656\n",
      "   macro avg       0.87      0.52      0.53    127656\n",
      "weighted avg       0.99      0.99      0.99    127656\n",
      "\n",
      "------------------------------------------------------------\n",
      "                Pred Clean  Pred Obscene\n",
      "Actual Clean        120677           245\n",
      "Actual Obscene        3380          3354\n",
      "              precision    recall  f1-score   support\n",
      "\n",
      "           0       0.97      1.00      0.99    120922\n",
      "           1       0.93      0.50      0.65      6734\n",
      "\n",
      "    accuracy                           0.97    127656\n",
      "   macro avg       0.95      0.75      0.82    127656\n",
      "weighted avg       0.97      0.97      0.97    127656\n",
      "\n",
      "------------------------------------------------------------\n",
      "               Pred Clean  Pred Threat\n",
      "Actual Clean       123842         3410\n",
      "Actual Threat         215          189\n",
      "              precision    recall  f1-score   support\n",
      "\n",
      "           0       1.00      0.97      0.99    127252\n",
      "           1       0.05      0.47      0.09       404\n",
      "\n",
      "    accuracy                           0.97    127656\n",
      "   macro avg       0.53      0.72      0.54    127656\n",
      "weighted avg       1.00      0.97      0.98    127656\n",
      "\n",
      "------------------------------------------------------------\n",
      "               Pred Clean  Pred Insult\n",
      "Actual Clean       120721          672\n",
      "Actual Insult        3336         2927\n",
      "              precision    recall  f1-score   support\n",
      "\n",
      "           0       0.97      0.99      0.98    121393\n",
      "           1       0.81      0.47      0.59      6263\n",
      "\n",
      "    accuracy                           0.97    127656\n",
      "   macro avg       0.89      0.73      0.79    127656\n",
      "weighted avg       0.97      0.97      0.96    127656\n",
      "\n",
      "------------------------------------------------------------\n",
      "                Pred Clean  Pred Indentity Hate\n",
      "Actual Clean        123520                 3025\n",
      "Indentity Hate         537                  574\n",
      "              precision    recall  f1-score   support\n",
      "\n",
      "           0       1.00      0.98      0.99    126545\n",
      "           1       0.16      0.52      0.24      1111\n",
      "\n",
      "    accuracy                           0.97    127656\n",
      "   macro avg       0.58      0.75      0.61    127656\n",
      "weighted avg       0.99      0.97      0.98    127656\n",
      "\n"
     ]
    }
   ],
   "source": [
    "con_tox = pd.DataFrame(data = confusion_matrix(y_train_toxic,predictTrain_tox), columns=['Pred Clean', 'Pred Toxic'], index=['Actual Clean', 'Actual Toxic'])\n",
    "con_stox = pd.DataFrame(data = confusion_matrix(y_train_severe_toxic,predictTrain_stox), columns=['Pred Clean', 'Pred Severe Toxic'], index=['Actual Clean', 'Actual Severe Toxic'])\n",
    "con_obs = pd.DataFrame(data = confusion_matrix(y_train_obscene,predictTrain_obs), columns=['Pred Clean', 'Pred Obscene'], index=['Actual Clean', 'Actual Obscene'])\n",
    "con_threat = pd.DataFrame(data = confusion_matrix(y_train_threat,predictTrain_threat), columns=['Pred Clean', 'Pred Threat'], index=['Actual Clean', 'Actual Threat'])\n",
    "con_insult = pd.DataFrame(data = confusion_matrix(y_train_insult,predictTrain_insult), columns=['Pred Clean', 'Pred Insult'], index=['Actual Clean', 'Actual Insult'])\n",
    "con_identity = pd.DataFrame(data = confusion_matrix(y_train_identity_hate,predictTrain_identity), columns=['Pred Clean', 'Pred Indentity Hate'], index=['Actual Clean', 'Indentity Hate'])\n",
    "\n",
    "print('-'*10,'Confusion Matrix & Classification Report','-'*10)\n",
    "print(con_tox)\n",
    "print(classification_report(y_train_toxic,predictTrain_tox))\n",
    "print('-'*60)\n",
    "print(con_stox)\n",
    "print(classification_report(y_train_severe_toxic,predictTrain_stox))\n",
    "print('-'*60)\n",
    "print(con_obs)\n",
    "print(classification_report(y_train_obscene,predictTrain_obs))\n",
    "print('-'*60)\n",
    "print(con_threat)\n",
    "print(classification_report(y_train_threat,predictTrain_threat))\n",
    "print('-'*60)\n",
    "print(con_insult)\n",
    "print(classification_report(y_train_insult,predictTrain_insult))\n",
    "print('-'*60)\n",
    "print(con_identity)\n",
    "print(classification_report(y_train_identity_hate,predictTrain_identity))"
   ]
  },
  {
   "cell_type": "markdown",
   "metadata": {},
   "source": [
    "### 2. Logistic Regression"
   ]
  },
  {
   "cell_type": "code",
   "execution_count": 25,
   "metadata": {},
   "outputs": [
    {
     "name": "stdout",
     "output_type": "stream",
     "text": [
      "[1 0 0 ... 0 0 0]\n",
      "[0 0 0 ... 0 0 0]\n",
      "[0 0 0 ... 0 0 0]\n",
      "[1 0 0 ... 0 0 0]\n",
      "[0 0 0 ... 0 0 0]\n",
      "[1 0 0 ... 0 0 0]\n"
     ]
    }
   ],
   "source": [
    "# Toxic\n",
    "LR_tox = LogisticRegression(solver='sag')\n",
    "LR_tox.fit(X_train_toxic, y_train_toxic)\n",
    "predictTrain_tox = LR_tox.predict(X_train_toxic)\n",
    "print(predictTrain_tox)\n",
    "\n",
    "# Severe Toxic\n",
    "LR_stox = LogisticRegression(solver='sag')\n",
    "LR_stox.fit(X_train_severe_toxic, y_train_severe_toxic)\n",
    "predictTrain_stox = LR_stox.predict(X_train_severe_toxic)\n",
    "print(predictTrain_stox)\n",
    "\n",
    "# Obscene\n",
    "LR_obs = LogisticRegression(solver='sag')\n",
    "LR_obs.fit(X_train_obscene, y_train_obscene)\n",
    "predictTrain_obs = LR_obs.predict(X_train_obscene)\n",
    "print(predictTrain_obs)\n",
    "\n",
    "# Threat\n",
    "LR_threat = LogisticRegression(solver='sag')\n",
    "LR_threat.fit(X_train_threat, y_train_threat)\n",
    "predictTrain_threat = LR_tox.predict(X_train_threat)\n",
    "print(predictTrain_threat)\n",
    "\n",
    "# Insult\n",
    "LR_insult = LogisticRegression(solver='sag')\n",
    "LR_insult.fit(X_train_insult, y_train_insult)\n",
    "predictTrain_insult = LR_insult.predict(X_train_insult)\n",
    "print(predictTrain_insult)\n",
    "\n",
    "# Indentity Hate\n",
    "LR_identity = LogisticRegression(solver='sag')\n",
    "LR_identity.fit(X_train_identity_hate, y_train_identity_hate)\n",
    "predictTrain_identity = LR_tox.predict(X_train_toxic)\n",
    "print(predictTrain_identity)"
   ]
  },
  {
   "cell_type": "markdown",
   "metadata": {},
   "source": [
    "## Model Evaluation (Training Data)"
   ]
  },
  {
   "cell_type": "code",
   "execution_count": 26,
   "metadata": {},
   "outputs": [
    {
     "name": "stdout",
     "output_type": "stream",
     "text": [
      "---------- Confusion Matrix & Classification Report ----------\n",
      "              Pred Clean  Pred Toxic\n",
      "Actual Clean      114944         474\n",
      "Actual Toxic        4479        7759\n",
      "              precision    recall  f1-score   support\n",
      "\n",
      "           0       0.96      1.00      0.98    115418\n",
      "           1       0.94      0.63      0.76     12238\n",
      "\n",
      "    accuracy                           0.96    127656\n",
      "   macro avg       0.95      0.81      0.87    127656\n",
      "weighted avg       0.96      0.96      0.96    127656\n",
      "\n",
      "------------------------------------------------------------\n",
      "               Pred Clean  Pred SToxic\n",
      "Actual Clean       126171          211\n",
      "Actual SToxic         950          324\n",
      "              precision    recall  f1-score   support\n",
      "\n",
      "           0       0.99      1.00      1.00    126382\n",
      "           1       0.61      0.25      0.36      1274\n",
      "\n",
      "    accuracy                           0.99    127656\n",
      "   macro avg       0.80      0.63      0.68    127656\n",
      "weighted avg       0.99      0.99      0.99    127656\n",
      "\n",
      "------------------------------------------------------------\n",
      "                Pred Clean  Pred Obscene\n",
      "Actual Clean        120584           338\n",
      "Actual Obscene        2247          4487\n",
      "              precision    recall  f1-score   support\n",
      "\n",
      "           0       0.98      1.00      0.99    120922\n",
      "           1       0.93      0.67      0.78      6734\n",
      "\n",
      "    accuracy                           0.98    127656\n",
      "   macro avg       0.96      0.83      0.88    127656\n",
      "weighted avg       0.98      0.98      0.98    127656\n",
      "\n",
      "------------------------------------------------------------\n",
      "               Pred Clean  Pred Threat\n",
      "Actual Clean       119324         7928\n",
      "Actual Threat          99          305\n",
      "              precision    recall  f1-score   support\n",
      "\n",
      "           0       1.00      0.94      0.97    127252\n",
      "           1       0.04      0.75      0.07       404\n",
      "\n",
      "    accuracy                           0.94    127656\n",
      "   macro avg       0.52      0.85      0.52    127656\n",
      "weighted avg       1.00      0.94      0.96    127656\n",
      "\n",
      "------------------------------------------------------------\n",
      "               Pred Clean  Pred Insult\n",
      "Actual Clean       120798          595\n",
      "Actual Insult        2864         3399\n",
      "              precision    recall  f1-score   support\n",
      "\n",
      "           0       0.98      1.00      0.99    121393\n",
      "           1       0.85      0.54      0.66      6263\n",
      "\n",
      "    accuracy                           0.97    127656\n",
      "   macro avg       0.91      0.77      0.82    127656\n",
      "weighted avg       0.97      0.97      0.97    127656\n",
      "\n",
      "------------------------------------------------------------\n",
      "                      Pred Clean  Pred Identity Hate\n",
      "Actual Clean              119187                7358\n",
      "Actual Identity Hate         236                 875\n",
      "              precision    recall  f1-score   support\n",
      "\n",
      "           0       1.00      0.94      0.97    126545\n",
      "           1       0.11      0.79      0.19      1111\n",
      "\n",
      "    accuracy                           0.94    127656\n",
      "   macro avg       0.55      0.86      0.58    127656\n",
      "weighted avg       0.99      0.94      0.96    127656\n",
      "\n"
     ]
    }
   ],
   "source": [
    "con_tox = pd.DataFrame(data =confusion_matrix(y_train_toxic,predictTrain_tox), columns=['Pred Clean', 'Pred Toxic'], index=['Actual Clean', 'Actual Toxic'])\n",
    "con_stox = pd.DataFrame(data = confusion_matrix(y_train_severe_toxic,predictTrain_stox), columns=['Pred Clean', 'Pred SToxic'], index=['Actual Clean', 'Actual SToxic'])\n",
    "con_obs = pd.DataFrame(data =confusion_matrix(y_train_obscene,predictTrain_obs), columns=['Pred Clean', 'Pred Obscene'], index=['Actual Clean', 'Actual Obscene'])\n",
    "con_threat = pd.DataFrame(data = confusion_matrix(y_train_threat,predictTrain_threat), columns=['Pred Clean', 'Pred Threat'], index=['Actual Clean', 'Actual Threat'])\n",
    "con_insult = pd.DataFrame(data = confusion_matrix(y_train_insult,predictTrain_insult), columns=['Pred Clean', 'Pred Insult'], index=['Actual Clean', 'Actual Insult'])\n",
    "con_identity = pd.DataFrame(data =confusion_matrix(y_train_identity_hate,predictTrain_identity), columns=['Pred Clean', 'Pred Identity Hate'], index=['Actual Clean', 'Actual Identity Hate'])\n",
    "\n",
    "print('-'*10,'Confusion Matrix & Classification Report','-'*10)\n",
    "print(con_tox)\n",
    "print(classification_report(y_train_toxic,predictTrain_tox))\n",
    "print('-'*60)\n",
    "print(con_stox)\n",
    "print(classification_report(y_train_severe_toxic,predictTrain_stox))\n",
    "print('-'*60)\n",
    "print(con_obs)\n",
    "print(classification_report(y_train_obscene,predictTrain_obs))\n",
    "print('-'*60)\n",
    "print(con_threat)\n",
    "print(classification_report(y_train_threat,predictTrain_threat))\n",
    "print('-'*60)\n",
    "print(con_insult)\n",
    "print(classification_report(y_train_insult,predictTrain_insult))\n",
    "print('-'*60)\n",
    "print(con_identity)\n",
    "print(classification_report(y_train_identity_hate,predictTrain_identity))"
   ]
  },
  {
   "cell_type": "markdown",
   "metadata": {},
   "source": [
    "## Model Evaluation (Testing Data)"
   ]
  },
  {
   "cell_type": "code",
   "execution_count": 27,
   "metadata": {},
   "outputs": [
    {
     "name": "stdout",
     "output_type": "stream",
     "text": [
      "[0 0 0 ... 0 1 0]\n",
      "[0 0 0 ... 0 0 0]\n",
      "[0 0 0 ... 0 0 0]\n",
      "[0 0 0 ... 0 0 0]\n",
      "[0 0 0 ... 0 0 0]\n",
      "[0 0 0 ... 0 0 0]\n"
     ]
    }
   ],
   "source": [
    "predictTest_tox = LR_tox.predict(X_test_toxic)\n",
    "print(predictTest_tox)\n",
    "\n",
    "predictTest_stox = LR_stox.predict(X_test_severe_toxic)\n",
    "print(predictTest_stox)\n",
    "\n",
    "predictTest_obs = LR_obs.predict(X_test_obscene)\n",
    "print(predictTest_obs)\n",
    "\n",
    "predictTest_threat = LR_threat.predict(X_test_threat)\n",
    "print(predictTest_threat)\n",
    "\n",
    "predictTest_insult = LR_insult.predict(X_test_insult)\n",
    "print(predictTest_insult)\n",
    "\n",
    "predictTest_identity = LR_insult.predict(X_test_identity_hate)\n",
    "print(predictTest_identity)"
   ]
  },
  {
   "cell_type": "code",
   "execution_count": 28,
   "metadata": {},
   "outputs": [
    {
     "name": "stdout",
     "output_type": "stream",
     "text": [
      "-------------------- Confusion Matrix --------------------\n",
      "              Pred Clean  Pred Toxic\n",
      "Actual Clean       28690         169\n",
      "Actual Toxic        1228        1828\n",
      "              precision    recall  f1-score   support\n",
      "\n",
      "           0       0.96      0.99      0.98     28859\n",
      "           1       0.92      0.60      0.72      3056\n",
      "\n",
      "    accuracy                           0.96     31915\n",
      "   macro avg       0.94      0.80      0.85     31915\n",
      "weighted avg       0.95      0.96      0.95     31915\n",
      "\n",
      "------------------------------------------------------------\n",
      "                     Pred Clean  Pred Severe Toxic\n",
      "Actual Clean              31535                 59\n",
      "Actual Severe Toxic         242                 79\n",
      "              precision    recall  f1-score   support\n",
      "\n",
      "           0       0.99      1.00      1.00     31594\n",
      "           1       0.57      0.25      0.34       321\n",
      "\n",
      "    accuracy                           0.99     31915\n",
      "   macro avg       0.78      0.62      0.67     31915\n",
      "weighted avg       0.99      0.99      0.99     31915\n",
      "\n",
      "------------------------------------------------------------\n",
      "                Pred Clean  Pred Obscene\n",
      "Actual Clean         30115            85\n",
      "Actual Obscene         645          1070\n",
      "              precision    recall  f1-score   support\n",
      "\n",
      "           0       0.98      1.00      0.99     30200\n",
      "           1       0.93      0.62      0.75      1715\n",
      "\n",
      "    accuracy                           0.98     31915\n",
      "   macro avg       0.95      0.81      0.87     31915\n",
      "weighted avg       0.98      0.98      0.98     31915\n",
      "\n",
      "------------------------------------------------------------\n",
      "               Pred Clean  Pred Threat\n",
      "Actual Clean        31836            5\n",
      "Actual Threat          65            9\n",
      "              precision    recall  f1-score   support\n",
      "\n",
      "           0       1.00      1.00      1.00     31841\n",
      "           1       0.64      0.12      0.20        74\n",
      "\n",
      "    accuracy                           1.00     31915\n",
      "   macro avg       0.82      0.56      0.60     31915\n",
      "weighted avg       1.00      1.00      1.00     31915\n",
      "\n",
      "------------------------------------------------------------\n",
      "               Pred Clean  Pred Insult\n",
      "Actual Clean        30141          160\n",
      "Actual Insult         818          796\n",
      "              precision    recall  f1-score   support\n",
      "\n",
      "           0       0.97      0.99      0.98     30301\n",
      "           1       0.83      0.49      0.62      1614\n",
      "\n",
      "    accuracy                           0.97     31915\n",
      "   macro avg       0.90      0.74      0.80     31915\n",
      "weighted avg       0.97      0.97      0.97     31915\n",
      "\n",
      "------------------------------------------------------------\n",
      "                 Pred Clean  Pred Identity\n",
      "Actual Clean          30806            815\n",
      "Actual Identity         153            141\n",
      "              precision    recall  f1-score   support\n",
      "\n",
      "           0       1.00      0.97      0.98     31621\n",
      "           1       0.15      0.48      0.23       294\n",
      "\n",
      "    accuracy                           0.97     31915\n",
      "   macro avg       0.57      0.73      0.61     31915\n",
      "weighted avg       0.99      0.97      0.98     31915\n",
      "\n"
     ]
    }
   ],
   "source": [
    "con_tox = pd.DataFrame(data = confusion_matrix(y_test_toxic,predictTest_tox), columns=['Pred Clean', 'Pred Toxic'], index=['Actual Clean', 'Actual Toxic'])\n",
    "con_stox = pd.DataFrame(data = confusion_matrix(y_test_severe_toxic,predictTest_stox), columns=['Pred Clean', 'Pred Severe Toxic'], index=['Actual Clean', 'Actual Severe Toxic'])\n",
    "con_obs = pd.DataFrame(data = confusion_matrix(y_test_obscene,predictTest_obs), columns=['Pred Clean', 'Pred Obscene'], index=['Actual Clean', 'Actual Obscene'])\n",
    "con_threat = pd.DataFrame(data = confusion_matrix(y_test_threat,predictTest_threat), columns=['Pred Clean', 'Pred Threat'], index=['Actual Clean', 'Actual Threat'])\n",
    "con_insult = pd.DataFrame(data = confusion_matrix(y_test_insult,predictTest_insult), columns=['Pred Clean', 'Pred Insult'], index=['Actual Clean', 'Actual Insult'])\n",
    "con_identity = pd.DataFrame(data = confusion_matrix(y_test_identity_hate,predictTest_identity), columns=['Pred Clean', 'Pred Identity'], index=['Actual Clean', 'Actual Identity'])\n",
    "\n",
    "print('-'*20,'Confusion Matrix','-'*20)\n",
    "print(con_tox)\n",
    "print(classification_report(y_test_toxic,predictTest_tox))\n",
    "\n",
    "print('-'*60)\n",
    "print(con_stox)\n",
    "print(classification_report(y_test_severe_toxic,predictTest_stox))\n",
    "\n",
    "print('-'*60)\n",
    "print(con_obs)\n",
    "print(classification_report(y_test_obscene,predictTest_obs))\n",
    "\n",
    "print('-'*60)\n",
    "print(con_threat)\n",
    "print(classification_report(y_test_threat,predictTest_threat))\n",
    "\n",
    "print('-'*60)\n",
    "print(con_insult)\n",
    "print(classification_report(y_test_insult,predictTest_insult))\n",
    "\n",
    "print('-'*60)\n",
    "print(con_identity)\n",
    "print(classification_report(y_test_identity_hate,predictTest_identity))"
   ]
  },
  {
   "cell_type": "markdown",
   "metadata": {},
   "source": [
    "#### Plot ROC Curves"
   ]
  },
  {
   "cell_type": "code",
   "execution_count": 29,
   "metadata": {},
   "outputs": [
    {
     "data": {
      "image/png": "[encoded data removed]",
      "text/plain": [
       "<Figure size 1008x864 with 1 Axes>"
      ]
     },
     "metadata": {
      "needs_background": "light"
     },
     "output_type": "display_data"
    }
   ],
   "source": [
    "# Plot ROC Curves on out of sample data\n",
    "fig, ax = plt.subplots(figsize=(14,12))\n",
    "plt.xticks(fontsize=30)\n",
    "plt.yticks(fontsize=30)\n",
    "plt.rcParams.update({'font.size': 30})\n",
    "\n",
    "y_pred_toxic = list(LR_tox.predict_proba(X_test_toxic)[:,1])\n",
    "label_toxic = y_test_toxic\n",
    "fpr, tpr, thresh = metrics.roc_curve(label_toxic, y_pred_toxic)\n",
    "roc_auc = metrics.auc(fpr, tpr)\n",
    "plt.plot(fpr,tpr,label=(\"Toxic AUC = %0.4f\" %roc_auc),linewidth=3.0)\n",
    "\n",
    "y_pred_severe_toxic = list(LR_stox.predict_proba(X_test_severe_toxic)[:,1])\n",
    "label_severe_toxic = y_test_severe_toxic\n",
    "fpr, tpr, thresh = metrics.roc_curve(label_severe_toxic, y_pred_severe_toxic)\n",
    "roc_auc = metrics.auc(fpr, tpr)\n",
    "plt.plot(fpr,tpr,label=(\"Severe Toxic AUC = %0.4f\" %roc_auc),linewidth=3.0)\n",
    "\n",
    "y_pred_obscene = list(LR_obs.predict_proba(X_test_obscene)[:,1])\n",
    "label_obscene = y_test_obscene\n",
    "fpr, tpr, thresh = metrics.roc_curve(label_obscene, y_pred_obscene)\n",
    "roc_auc = metrics.auc(fpr, tpr)\n",
    "plt.plot(fpr,tpr,label=(\"Obscene AUC = %0.4f\" %roc_auc),linewidth=3.0)\n",
    "\n",
    "y_pred_threat = list(LR_threat.predict_proba(X_test_threat)[:,1])\n",
    "label_threat = y_test_threat\n",
    "fpr, tpr, thresh = metrics.roc_curve(label_threat, y_pred_threat)\n",
    "roc_auc = metrics.auc(fpr, tpr)\n",
    "plt.plot(fpr,tpr,label=(\"Threat AUC = %0.4f\" %roc_auc),linewidth=3.0)\n",
    "\n",
    "y_pred_insult = list(LR_insult.predict_proba(X_test_insult)[:,1])\n",
    "label_insult = y_test_insult\n",
    "fpr, tpr, thresh = metrics.roc_curve(label_insult, y_pred_insult)\n",
    "roc_auc = metrics.auc(fpr, tpr)\n",
    "plt.plot(fpr,tpr,label=(\"Insult AUC = %0.4f\" %roc_auc),linewidth=3.0)\n",
    "\n",
    "y_pred_identity_hate = list(LR_identity.predict_proba(X_test_identity_hate)[:,1])\n",
    "label_identity_hate = y_test_identity_hate\n",
    "fpr, tpr, thresh = metrics.roc_curve(label_identity_hate, y_pred_identity_hate)\n",
    "roc_auc = metrics.auc(fpr, tpr)\n",
    "plt.plot(fpr,tpr,label=(\"Identity Hate AUC = %0.4f\" %roc_auc),linewidth=3.0)\n",
    "\n",
    "plt.title('Receiving Operating Characteristic (Logit)\\n',fontsize=45);\n",
    "plt.plot([0, 1], [0, 1], 'r--')\n",
    "plt.ylabel('True Positive Rate')\n",
    "plt.xlabel('False Positive Rate')\n",
    "plt.legend(loc=0,prop={'size': 25});"
   ]
  },
  {
   "cell_type": "markdown",
   "metadata": {},
   "source": [
    "<h5>-The area under the ROC curve tells us how many more false positives we get if we change our probability threshold to get more true positives.<\\h5>\n",
    "<h5>-In the context of this project, a false positive is saying a comment is toxic when it really is not, and a true positive is correctly identifying a toxic comment.<\\h5>\n",
    "<h5>-Basically, more area under the ROC curve means we get fewer additional false positives for additional true positives, which is what we want to maximize.<\\h5>"
   ]
  },
  {
   "cell_type": "markdown",
   "metadata": {},
   "source": [
    "\n",
    "\n",
    "### Model Dict"
   ]
  },
  {
   "cell_type": "code",
   "execution_count": 30,
   "metadata": {},
   "outputs": [],
   "source": [
    "model_all = { 'toxic' : LR_tox,\n",
    "         'severe_toxic' : LR_stox,\n",
    "         'obscene' : LR_obs,\n",
    "         'threat' : LR_threat,\n",
    "         'insult' : LR_insult,\n",
    "         'identity_hate' : LR_identity\n",
    "}"
   ]
  },
  {
   "cell_type": "code",
   "execution_count": 31,
   "metadata": {},
   "outputs": [
    {
     "data": {
      "text/plain": [
       "{'toxic': LogisticRegression(C=1.0, class_weight=None, dual=False, fit_intercept=True,\n",
       "                    intercept_scaling=1, l1_ratio=None, max_iter=100,\n",
       "                    multi_class='warn', n_jobs=None, penalty='l2',\n",
       "                    random_state=None, solver='sag', tol=0.0001, verbose=0,\n",
       "                    warm_start=False),\n",
       " 'severe_toxic': LogisticRegression(C=1.0, class_weight=None, dual=False, fit_intercept=True,\n",
       "                    intercept_scaling=1, l1_ratio=None, max_iter=100,\n",
       "                    multi_class='warn', n_jobs=None, penalty='l2',\n",
       "                    random_state=None, solver='sag', tol=0.0001, verbose=0,\n",
       "                    warm_start=False),\n",
       " 'obscene': LogisticRegression(C=1.0, class_weight=None, dual=False, fit_intercept=True,\n",
       "                    intercept_scaling=1, l1_ratio=None, max_iter=100,\n",
       "                    multi_class='warn', n_jobs=None, penalty='l2',\n",
       "                    random_state=None, solver='sag', tol=0.0001, verbose=0,\n",
       "                    warm_start=False),\n",
       " 'threat': LogisticRegression(C=1.0, class_weight=None, dual=False, fit_intercept=True,\n",
       "                    intercept_scaling=1, l1_ratio=None, max_iter=100,\n",
       "                    multi_class='warn', n_jobs=None, penalty='l2',\n",
       "                    random_state=None, solver='sag', tol=0.0001, verbose=0,\n",
       "                    warm_start=False),\n",
       " 'insult': LogisticRegression(C=1.0, class_weight=None, dual=False, fit_intercept=True,\n",
       "                    intercept_scaling=1, l1_ratio=None, max_iter=100,\n",
       "                    multi_class='warn', n_jobs=None, penalty='l2',\n",
       "                    random_state=None, solver='sag', tol=0.0001, verbose=0,\n",
       "                    warm_start=False),\n",
       " 'identity_hate': LogisticRegression(C=1.0, class_weight=None, dual=False, fit_intercept=True,\n",
       "                    intercept_scaling=1, l1_ratio=None, max_iter=100,\n",
       "                    multi_class='warn', n_jobs=None, penalty='l2',\n",
       "                    random_state=None, solver='sag', tol=0.0001, verbose=0,\n",
       "                    warm_start=False)}"
      ]
     },
     "execution_count": 31,
     "metadata": {},
     "output_type": "execute_result"
    }
   ],
   "source": [
    "model_all"
   ]
  },
  {
   "cell_type": "markdown",
   "metadata": {},
   "source": [
    "#### Save Model"
   ]
  },
  {
   "cell_type": "code",
   "execution_count": 32,
   "metadata": {},
   "outputs": [],
   "source": [
    "#pickle the models\n",
    "# Save Model as a pickle Using joblib\n",
    "# Save the model as a pickle in a file \n",
    "joblib.dump(model_all, 'Logistic_Regression_models.p')\n",
    "pickle.dump(word_vectorizer.fit(all_text), open(\"log_word_vectorizer.p\", \"wb\"))"
   ]
  },
  {
   "cell_type": "code",
   "execution_count": 33,
   "metadata": {},
   "outputs": [],
   "source": [
    "# Load the model from the file \n",
    "model_dict_imported = joblib.load('Logistic_Regression_models.p') \n",
    "word_vectorizer = joblib.load('log_word_vectorizer.p')\n",
    "model_dict = model_dict_imported"
   ]
  },
  {
   "cell_type": "markdown",
   "metadata": {},
   "source": [
    "#### Testing Input Chat with the Model"
   ]
  },
  {
   "cell_type": "code",
   "execution_count": 34,
   "metadata": {},
   "outputs": [],
   "source": [
    "def raw_chat_to_model_input(raw_input_string):\n",
    "    \n",
    "    cleaned_text = []\n",
    "    for text in [raw_input_string]:\n",
    "        cleaned_text.append(clean_word(text))\n",
    "    print(cleaned_text)\n",
    "    return word_vectorizer.transform(cleaned_text)\n",
    "\n",
    "    \n",
    "def predict_toxicity(raw_input_string):\n",
    "    model_input = raw_chat_to_model_input(raw_input_string)\n",
    "    results = []\n",
    "    for key,model in model_dict.items():\n",
    "        results.append(round(model.predict_proba(model_input)[0,1],4))\n",
    "    return results"
   ]
  },
  {
   "cell_type": "code",
   "execution_count": 35,
   "metadata": {},
   "outputs": [
    {
     "name": "stdout",
     "output_type": "stream",
     "text": [
      "['hello world']\n",
      "toxic 0.0582\n",
      "severe_toxic 0.0065\n",
      "obscene 0.0218\n",
      "threat 0.0068\n",
      "insult 0.0749\n",
      "identity_hate 0.0176\n"
     ]
    }
   ],
   "source": [
    "chat_input = 'Hello world'\n",
    "\n",
    "output_list = [list(model_dict.keys()),predict_toxicity(chat_input)]\n",
    "for index in range(len(output_list[0])):\n",
    "    print(output_list[0][index],output_list[1][index])"
   ]
  },
  {
   "cell_type": "code",
   "execution_count": null,
   "metadata": {},
   "outputs": [],
   "source": []
  }
 ],
 "metadata": {
  "kernelspec": {
   "display_name": "Python 3",
   "language": "python",
   "name": "python3"
  },
  "language_info": {
   "codemirror_mode": {
    "name": "ipython",
    "version": 3
   },
   "file_extension": ".py",
   "mimetype": "text/x-python",
   "name": "python",
   "nbconvert_exporter": "python",
   "pygments_lexer": "ipython3",
   "version": "3.7.3"
  }
 },
 "nbformat": 4,
 "nbformat_minor": 4
}
